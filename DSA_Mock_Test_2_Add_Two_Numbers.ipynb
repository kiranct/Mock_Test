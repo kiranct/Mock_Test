{
 "cells": [
  {
   "cell_type": "code",
   "execution_count": 1,
   "id": "1458c5a2",
   "metadata": {},
   "outputs": [
    {
     "name": "stdout",
     "output_type": "stream",
     "text": [
      "Sum is: 8 0 7\n"
     ]
    }
   ],
   "source": [
    "\"\"\"\n",
    "    You are given two non-empty linked lists representing two non-negative integers. The digits are stored in reverse order,\n",
    "    and each of their nodes contains a single digit. Add the two numbers and return the sum as a linked list.\n",
    "    You may assume the two numbers do not contain any leading zero, except the number 0 itself.\n",
    "    \"\"\"\n",
    "class Node:\n",
    "    def __init__(self, data):\n",
    "        self.data = data\n",
    "        self.next = None\n",
    "\n",
    "class LinkedList:\n",
    "    def reverse_list(self, list):\n",
    "        prev = None\n",
    "        curr = list\n",
    "        next = None\n",
    "        while curr is not None:\n",
    "            next = curr.next\n",
    "            curr.next = prev\n",
    "            prev = curr\n",
    "            curr = next\n",
    "        return prev\n",
    " \n",
    "    def add_two_lists(self, first, second):\n",
    "        first = self.reverse_list(first)\n",
    "        second = self.reverse_list(second)\n",
    " \n",
    "        carry = 0\n",
    "        head = None\n",
    "        prev = None\n",
    "        sum_list = None\n",
    "\n",
    "        while first is not None or second is not None or carry == 1:\n",
    "            new_val = carry\n",
    "            if first is not None:\n",
    "                new_val += first.data\n",
    "            if second is not None:\n",
    "                new_val += second.data\n",
    "            carry = new_val // 10\n",
    "            new_val = new_val % 10\n",
    "\n",
    "            new_node = Node(new_val)\n",
    "            new_node.next = sum_list\n",
    "            sum_list = new_node\n",
    "\n",
    "            if first is not None:\n",
    "                first = first.next\n",
    "            if second is not None:\n",
    "                second = second.next\n",
    " \n",
    "        self.print_list(sum_list)\n",
    "    def print_list(self, head):\n",
    "        while head.next is not None:\n",
    "            print(head.data, end=\" \")\n",
    "            head = head.next\n",
    "        print(head.data)\n",
    "\n",
    "linked_list = LinkedList()\n",
    "\n",
    "linked_list.head1 = Node(2)\n",
    "linked_list.head1.next = Node(4)\n",
    "linked_list.head1.next.next = Node(3)\n",
    "\n",
    "linked_list.head2 = Node(5)\n",
    "linked_list.head2.next = Node(6)\n",
    "linked_list.head2.next.next = Node(4)\n",
    " \n",
    "print(\"Sum is:\", end = \" \")\n",
    "linked_list.add_two_lists(linked_list.head1, linked_list.head2)"
   ]
  },
  {
   "cell_type": "code",
   "execution_count": null,
   "id": "3a3ee5aa",
   "metadata": {},
   "outputs": [],
   "source": []
  }
 ],
 "metadata": {
  "kernelspec": {
   "display_name": "Python 3 (ipykernel)",
   "language": "python",
   "name": "python3"
  },
  "language_info": {
   "codemirror_mode": {
    "name": "ipython",
    "version": 3
   },
   "file_extension": ".py",
   "mimetype": "text/x-python",
   "name": "python",
   "nbconvert_exporter": "python",
   "pygments_lexer": "ipython3",
   "version": "3.10.9"
  }
 },
 "nbformat": 4,
 "nbformat_minor": 5
}
