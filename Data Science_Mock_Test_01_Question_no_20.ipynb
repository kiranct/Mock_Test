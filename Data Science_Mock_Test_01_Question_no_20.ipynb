{
 "cells": [
  {
   "cell_type": "code",
   "execution_count": 22,
   "id": "7856e793",
   "metadata": {},
   "outputs": [
    {
     "name": "stdout",
     "output_type": "stream",
     "text": [
      "Sample 1:  [5, 10, 15, 20, 25]\n",
      "Sample 2:  [10, 20, 30, 40, 50]\n",
      "T-statistic value:  -1.8973665961010275\n",
      "P-Value:  0.09434977284243756\n"
     ]
    }
   ],
   "source": [
    "\"\"\"\n",
    "20. Write a function called ‘perform_hypothesis_test’ that takes two lists of numbers as input, representing two samples. The \n",
    "    function should perform a two-sample t-test and return the p-value. Use the ‘scipy.stats’ module in Python to calculate the\n",
    "    t-test and p-value\n",
    "    \"\"\"\n",
    "import scipy.stats as stats\n",
    "\n",
    "s1= [5, 10, 15, 20, 25]\n",
    "s2=[10, 20, 30, 40, 50]\n",
    "print('Sample 1: ',s1)\n",
    "print('Sample 2: ',s2)\n",
    "t_stat, p_value = stats.ttest_ind(s1, s2)\n",
    "print(\"T-statistic value: \", t_stat)  \n",
    "print(\"P-Value: \", p_value)"
   ]
  },
  {
   "cell_type": "code",
   "execution_count": null,
   "id": "d36ad8a8",
   "metadata": {},
   "outputs": [],
   "source": []
  }
 ],
 "metadata": {
  "kernelspec": {
   "display_name": "Python 3 (ipykernel)",
   "language": "python",
   "name": "python3"
  },
  "language_info": {
   "codemirror_mode": {
    "name": "ipython",
    "version": 3
   },
   "file_extension": ".py",
   "mimetype": "text/x-python",
   "name": "python",
   "nbconvert_exporter": "python",
   "pygments_lexer": "ipython3",
   "version": "3.10.9"
  }
 },
 "nbformat": 4,
 "nbformat_minor": 5
}
