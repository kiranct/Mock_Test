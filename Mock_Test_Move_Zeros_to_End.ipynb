{
 "cells": [
  {
   "cell_type": "code",
   "execution_count": 6,
   "id": "408e6941",
   "metadata": {},
   "outputs": [
    {
     "name": "stdout",
     "output_type": "stream",
     "text": [
      "[1, 3, 12, 0, 0]\n",
      "  \n",
      "[0]\n"
     ]
    }
   ],
   "source": [
    "\"\"\"\n",
    "Move all zeros to end\n",
    "ex1:\n",
    "    Input: nums = [0,1,0,3,12]\n",
    "    Output: [1,3,12,0,0]\n",
    "ex2: \n",
    "    Input: nums = [0]\n",
    "    Output: [0]\n",
    "\"\"\"\n",
    "\n",
    "def Movezerostoend(nums,n):\n",
    "    count = 0\n",
    "    for i in range(n):\n",
    "        if nums[i] != 0:\n",
    "            nums[count] = nums[i]\n",
    "            count +=1\n",
    "    while count < n:\n",
    "        nums[count]=0\n",
    "        count +=1\n",
    "nums = [0,1,0,3,12]\n",
    "n=len(nums)\n",
    "Movezerostoend(nums,n)\n",
    "print(nums)\n",
    "print(\"  \")\n",
    "nums = [0]\n",
    "n=len(nums)\n",
    "Movezerostoend(nums,n)\n",
    "print(nums)"
   ]
  },
  {
   "cell_type": "code",
   "execution_count": null,
   "id": "9c7bb609",
   "metadata": {},
   "outputs": [],
   "source": []
  }
 ],
 "metadata": {
  "kernelspec": {
   "display_name": "Python 3 (ipykernel)",
   "language": "python",
   "name": "python3"
  },
  "language_info": {
   "codemirror_mode": {
    "name": "ipython",
    "version": 3
   },
   "file_extension": ".py",
   "mimetype": "text/x-python",
   "name": "python",
   "nbconvert_exporter": "python",
   "pygments_lexer": "ipython3",
   "version": "3.10.9"
  }
 },
 "nbformat": 4,
 "nbformat_minor": 5
}
